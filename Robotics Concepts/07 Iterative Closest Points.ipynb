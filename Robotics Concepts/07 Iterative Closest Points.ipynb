{
 "cells": [
  {
   "cell_type": "markdown",
   "metadata": {
    "slideshow": {
     "slide_type": "slide"
    }
   },
   "source": [
    "# Point alignment with SVD (a step in the Iterative Closest Points algorithm)\n",
    "\n",
    "First, we define $P$ and $X$ as $2 \\times N$ matrices; the $i$-th column contains the $x,y$ coordinates of one point $X_i$ and its correspondence $P_i$.  Note that the points are already matched."
   ]
  },
  {
   "cell_type": "code",
   "execution_count": 1,
   "metadata": {},
   "outputs": [],
   "source": [
    "import numpy as np\n",
    "import matplotlib.pyplot as plt\n",
    "\n",
    "P = np.array([[0,0],[1,0],[2,0],[3,1]]).T\n",
    "X = np.array([[2,1],[2,2],[2,3],[1,4]]).T\n",
    "P = P + np.random.randn(*P.shape) * 0.1"
   ]
  },
  {
   "cell_type": "markdown",
   "metadata": {
    "slideshow": {
     "slide_type": "slide"
    }
   },
   "source": [
    "Let's now draw our points and their correspondences"
   ]
  },
  {
   "cell_type": "code",
   "execution_count": 2,
   "metadata": {},
   "outputs": [
    {
     "data": {
      "image/png": "[encoded data removed]",
      "text/plain": [
       "<matplotlib.figure.Figure at 0x7fb87f3e8208>"
      ]
     },
     "metadata": {},
     "output_type": "display_data"
    }
   ],
   "source": [
    "def plotpoints(P,X):\n",
    "    fig,ax = plt.subplots()\n",
    "    ax.scatter(P[0,:],P[1,:], label = \"$P$\")\n",
    "    ax.scatter(X[0,:],X[1,:], label = \"$X$\")\n",
    "    ax.plot(np.vstack((P[0,:],X[0,:])),np.vstack((P[1,:],X[1,:])),\n",
    "           color = \"black\", linewidth = 0.5, alpha = 0.2)\n",
    "    ax.axis(\"equal\")\n",
    "    plt.legend();\n",
    "    \n",
    "plotpoints(P,X)"
   ]
  },
  {
   "cell_type": "markdown",
   "metadata": {
    "slideshow": {
     "slide_type": "slide"
    }
   },
   "source": [
    "## Step 1\n",
    "We now compute the barycenter of both point clouds and subtract it to get $P'$ and $X'$"
   ]
  },
  {
   "cell_type": "code",
   "execution_count": 3,
   "metadata": {},
   "outputs": [
    {
     "data": {
      "image/png": "[encoded data removed]",
      "text/plain": [
       "<matplotlib.figure.Figure at 0x7fb87c08d5f8>"
      ]
     },
     "metadata": {},
     "output_type": "display_data"
    }
   ],
   "source": [
    "muP = np.mean(P, axis=1, keepdims=True)\n",
    "muX = np.mean(X, axis=1, keepdims=True)\n",
    "Pprime = P - muP\n",
    "Xprime = X - muX\n",
    "plotpoints(Pprime, Xprime)"
   ]
  },
  {
   "cell_type": "markdown",
   "metadata": {
    "slideshow": {
     "slide_type": "slide"
    }
   },
   "source": [
    "## Step 2\n",
    "We compute $W$ on which the SVD will be applied, as $W = \\sum_{i = 1}^N x_i' p_i'^T$; this assumes $x_i'$ and $p_i'$ are column vectors, so $W$ will have size $2 \\times 2$."
   ]
  },
  {
   "cell_type": "code",
   "execution_count": 4,
   "metadata": {},
   "outputs": [
    {
     "data": {
      "text/plain": [
       "array([[-1.53899981, -0.69460679],\n",
       "       [ 5.07324942,  1.49244616]])"
      ]
     },
     "execution_count": 4,
     "metadata": {},
     "output_type": "execute_result"
    }
   ],
   "source": [
    "W = np.zeros((2,2))\n",
    "for i in range(P.shape[1]):\n",
    "    W += Xprime[:,[i]] @ Pprime[:,[i]].T\n",
    "W\n",
    "\n",
    "# or equivalently (not obvious why, have a look at the docs of np.dot)\n",
    "# W = np.dot(Xprime, Pprime.T)"
   ]
  },
  {
   "cell_type": "markdown",
   "metadata": {
    "slideshow": {
     "slide_type": "slide"
    }
   },
   "source": [
    "## Step 3\n",
    "We decompose $W = USV$ and recover the rigid transform as a rotation matrix $R = UV^T$ and a translation vector $t$"
   ]
  },
  {
   "cell_type": "code",
   "execution_count": 5,
   "metadata": {
    "slideshow": {
     "slide_type": "slide"
    }
   },
   "outputs": [],
   "source": [
    "U,S,V = np.linalg.svd(W)\n",
    "R = U @ V.T\n",
    "t = muX - (R @ muP)"
   ]
  },
  {
   "cell_type": "markdown",
   "metadata": {
    "slideshow": {
     "slide_type": "slide"
    }
   },
   "source": [
    "Let's double check that the $R$ matrix we got is a rotation matrix: rotation matrices have [special properties](https://en.wikipedia.org/wiki/Rotation_matrix#Properties_of_a_rotation_matrix); we check some of those below."
   ]
  },
  {
   "cell_type": "code",
   "execution_count": 6,
   "metadata": {},
   "outputs": [
    {
     "name": "stdout",
     "output_type": "stream",
     "text": [
      "[[-0.00807096 -0.99996743]\n",
      " [ 0.99996743 -0.00807096]]\n"
     ]
    }
   ],
   "source": [
    "print(R)\n",
    "assert(np.allclose(np.linalg.inv(R),R.T)) # R^-1 == R^T\n",
    "assert(np.isclose(np.dot(R[0,:], R[1,:]), 0)) # rows should be orthogonal\n",
    "assert(np.isclose(np.linalg.det(R), 1)) # determinant should be +1"
   ]
  },
  {
   "cell_type": "markdown",
   "metadata": {
    "slideshow": {
     "slide_type": "slide"
    }
   },
   "source": [
    "We can now transform $P$ to align it to $X$"
   ]
  },
  {
   "cell_type": "code",
   "execution_count": 7,
   "metadata": {},
   "outputs": [
    {
     "data": {
      "text/plain": [
       "array([[ 2.04935548,  1.97762721,  1.93002268,  1.04299463],\n",
       "       [ 0.93668991,  2.09892502,  2.93104153,  4.03334354]])"
      ]
     },
     "execution_count": 7,
     "metadata": {},
     "output_type": "execute_result"
    }
   ],
   "source": [
    "Paligned = R @ P + t\n",
    "Paligned"
   ]
  },
  {
   "cell_type": "code",
   "execution_count": 8,
   "metadata": {},
   "outputs": [
    {
     "data": {
      "text/plain": [
       "array([[ 2.04935548,  1.97762721,  1.93002268,  1.04299463],\n",
       "       [ 0.93668991,  2.09892502,  2.93104153,  4.03334354]])"
      ]
     },
     "execution_count": 8,
     "metadata": {},
     "output_type": "execute_result"
    }
   ],
   "source": [
    "# Same thing using homoegeneous coordinates\n",
    "hmatrix = np.vstack((np.hstack((R,t)),[0,0,1]))\n",
    "hP = np.vstack((P,np.ones(P.shape[1])))\n",
    "hPaligned = hmatrix @ hP\n",
    "Paligned = hPaligned[0:2,:]\n",
    "Paligned"
   ]
  },
  {
   "cell_type": "code",
   "execution_count": 9,
   "metadata": {
    "slideshow": {
     "slide_type": "slide"
    }
   },
   "outputs": [
    {
     "data": {
      "image/png": "[encoded data removed]",
      "text/plain": [
       "<matplotlib.figure.Figure at 0x7fb87c04c390>"
      ]
     },
     "metadata": {},
     "output_type": "display_data"
    }
   ],
   "source": [
    "plotpoints(Paligned,X)"
   ]
  }
 ],
 "metadata": {
  "kernelspec": {
   "display_name": "Python 3",
   "language": "python",
   "name": "python3"
  },
  "language_info": {
   "codemirror_mode": {
    "name": "ipython",
    "version": 3
   },
   "file_extension": ".py",
   "mimetype": "text/x-python",
   "name": "python",
   "nbconvert_exporter": "python",
   "pygments_lexer": "ipython3",
   "version": "3.5.4"
  }
 },
 "nbformat": 4,
 "nbformat_minor": 2
}
